{
  "cells": [
    {
      "cell_type": "markdown",
      "metadata": {
        "id": "QmRAEtvJ_6OT"
      },
      "source": [
        "# **Deep Learning With Python  -  CHAPTER 3**"
      ]
    },
    {
      "cell_type": "markdown",
      "metadata": {
        "id": "8HE2uMKK_7Qp"
      },
      "source": [
        "- This code provides a structured and modular approach to processing, training, and evaluating machine learning models for three different datasets: **IMDB (sentiment analysis), Reuters (news classification), and Boston Housing (regression analysis)**.\n",
        "\n",
        "- The `DataLoader` class handles loading datasets, while the `Preprocessor` class processes the data, including text vectorization, one-hot encoding, and normalization.\n",
        "\n",
        "- The `TextModel` class builds deep learning models for text classification, and the `RegressionModel` class constructs a regression model for housing price prediction. The `Trainer` class manages the training process, and the `Evaluator` class evaluates model performance.\n",
        "\n",
        "- Finally, the `Plotter` class visualizes training results. This structured implementation ensures **readability, modularity, and scalability**, allowing easy adaptation for future tasks. 🚀"
      ]
    },
    {
      "cell_type": "code",
      "execution_count": 1,
      "metadata": {
        "id": "oqNg9frRCBgk"
      },
      "outputs": [],
      "source": [
        "import numpy as np\n",
        "import tensorflow as tf\n",
        "from tensorflow import keras\n",
        "import matplotlib.pyplot as plt\n",
        "from tensorflow.keras import layers\n",
        "from tensorflow.keras.datasets import imdb, reuters, boston_housing"
      ]
    },
    {
      "cell_type": "code",
      "execution_count": 2,
      "metadata": {
        "id": "7HHCQEtlu8Pg"
      },
      "outputs": [],
      "source": [
        "class DataLoader:\n",
        "    @staticmethod\n",
        "    def load_imdb():\n",
        "        (train_data, train_labels), (test_data, test_labels) = imdb.load_data(num_words=10000)\n",
        "        return train_data, train_labels, test_data, test_labels\n",
        "\n",
        "    @staticmethod\n",
        "    def load_reuters():\n",
        "        (train_data, train_labels), (test_data, test_labels) = reuters.load_data(num_words=10000)\n",
        "        return train_data, train_labels, test_data, test_labels\n",
        "\n",
        "    @staticmethod\n",
        "    def load_boston_housing():\n",
        "        (train_data, train_targets), (test_data, test_targets) = boston_housing.load_data()\n",
        "        return train_data, train_targets, test_data, test_targets"
      ]
    },
    {
      "cell_type": "code",
      "execution_count": 3,
      "metadata": {
        "id": "lx1G3oUPCicE"
      },
      "outputs": [],
      "source": [
        "class Preprocessor:\n",
        "    @staticmethod\n",
        "    def vectorize_sequences(sequences, dimension=10000):\n",
        "        results = np.zeros((len(sequences), dimension))\n",
        "        for i, sequence in enumerate(sequences):\n",
        "            results[i, sequence] = 1.0\n",
        "        return results\n",
        "\n",
        "    @staticmethod\n",
        "    def to_one_hot(labels, dimension=46):\n",
        "        return keras.utils.to_categorical(labels, num_classes=dimension)\n",
        "\n",
        "    @staticmethod\n",
        "    def normalize_data(train_data, test_data):\n",
        "        mean = train_data.mean(axis=0)\n",
        "        std = train_data.std(axis=0)\n",
        "        train_data = (train_data - mean) / std\n",
        "        test_data = (test_data - mean) / std\n",
        "        return train_data, test_data"
      ]
    },
    {
      "cell_type": "code",
      "source": [
        "class TextModel:\n",
        "    def __init__(self, output_dim, loss_function):\n",
        "        self.model = keras.Sequential([\n",
        "            layers.Dense(64, activation=\"relu\"),\n",
        "            layers.Dense(64, activation=\"relu\"),\n",
        "            layers.Dense(output_dim, activation=\"softmax\" if output_dim > 1 else \"sigmoid\")\n",
        "        ])\n",
        "        self.model.compile(optimizer=\"rmsprop\", loss=loss_function, metrics=[\"accuracy\"])\n",
        "\n",
        "    def get_model(self):\n",
        "        return self.model"
      ],
      "metadata": {
        "id": "AMIFlb8B5DTO"
      },
      "execution_count": 4,
      "outputs": []
    },
    {
      "cell_type": "code",
      "source": [
        "class RegressionModel:\n",
        "    @staticmethod\n",
        "    def build_model():\n",
        "        model = keras.Sequential([\n",
        "            layers.Dense(64, activation=\"relu\"),\n",
        "            layers.Dense(64, activation=\"relu\"),\n",
        "            layers.Dense(1)\n",
        "        ])\n",
        "        model.compile(optimizer=\"rmsprop\", loss=\"mse\", metrics=[\"mae\"])\n",
        "        return model"
      ],
      "metadata": {
        "id": "zI1CcA9A5Fxm"
      },
      "execution_count": 5,
      "outputs": []
    },
    {
      "cell_type": "code",
      "source": [
        "class Trainer:\n",
        "    def __init__(self, model, train_data, train_labels, val_data=None, val_labels=None):\n",
        "        self.model = model\n",
        "        self.train_data = train_data\n",
        "        self.train_labels = train_labels\n",
        "        self.val_data = val_data\n",
        "        self.val_labels = val_labels\n",
        "\n",
        "    def train(self, epochs=20, batch_size=512):\n",
        "        history = self.model.fit(\n",
        "            self.train_data, self.train_labels,\n",
        "            epochs=epochs, batch_size=batch_size,\n",
        "            validation_data=(self.val_data, self.val_labels) if self.val_data is not None else None\n",
        "        )\n",
        "        return history.history"
      ],
      "metadata": {
        "id": "FjL17ZVC5Iw-"
      },
      "execution_count": 6,
      "outputs": []
    },
    {
      "cell_type": "code",
      "source": [
        "class Evaluator:\n",
        "    @staticmethod\n",
        "    def evaluate(model, test_data, test_labels):\n",
        "        results = model.evaluate(test_data, test_labels)\n",
        "        print(f\"Test results: {results}\")\n",
        "        return results\n",
        "\n",
        "    @staticmethod\n",
        "    def predict(model, test_data):\n",
        "        predictions = model.predict(test_data)\n",
        "        return predictions"
      ],
      "metadata": {
        "id": "XSAgrObR5KwV"
      },
      "execution_count": 7,
      "outputs": []
    },
    {
      "cell_type": "code",
      "source": [
        "class Plotter:\n",
        "    @staticmethod\n",
        "    def plot_loss(history):\n",
        "        epochs = range(1, len(history[\"loss\"]) + 1)\n",
        "        plt.plot(epochs, history[\"loss\"], \"bo\", label=\"Training loss\")\n",
        "        plt.plot(epochs, history[\"val_loss\"], \"b\", label=\"Validation loss\")\n",
        "        plt.title(\"Training and validation loss\")\n",
        "        plt.xlabel(\"Epochs\")\n",
        "        plt.ylabel(\"Loss\")\n",
        "        plt.legend()\n",
        "        plt.show()\n",
        "\n",
        "    @staticmethod\n",
        "    def plot_accuracy(history):\n",
        "        epochs = range(1, len(history[\"accuracy\"]) + 1)\n",
        "        plt.plot(epochs, history[\"accuracy\"], \"bo\", label=\"Training accuracy\")\n",
        "        plt.plot(epochs, history[\"val_accuracy\"], \"b\", label=\"Validation accuracy\")\n",
        "        plt.title(\"Training and validation accuracy\")\n",
        "        plt.xlabel(\"Epochs\")\n",
        "        plt.ylabel(\"Accuracy\")\n",
        "        plt.legend()\n",
        "        plt.show()"
      ],
      "metadata": {
        "id": "GQNic0Q35MqF"
      },
      "execution_count": 8,
      "outputs": []
    },
    {
      "cell_type": "code",
      "source": [
        "train_data, train_labels, test_data, test_labels = DataLoader.load_imdb()\n",
        "x_train = Preprocessor.vectorize_sequences(train_data)\n",
        "x_test = Preprocessor.vectorize_sequences(test_data)\n",
        "y_train = np.asarray(train_labels).astype(\"float32\")\n",
        "y_test = np.asarray(test_labels).astype(\"float32\")"
      ],
      "metadata": {
        "id": "qsUcFFwE5Qhv"
      },
      "execution_count": 9,
      "outputs": []
    },
    {
      "cell_type": "code",
      "source": [
        "imdb_model = TextModel(output_dim=1, loss_function=\"binary_crossentropy\").get_model()\n",
        "trainer = Trainer(imdb_model, x_train[10000:], y_train[10000:], x_train[:10000], y_train[:10000])\n",
        "history = trainer.train(epochs=4)\n",
        "Evaluator.evaluate(imdb_model, x_test, y_test)\n",
        "Plotter.plot_loss(history)\n",
        "Plotter.plot_accuracy(history)"
      ],
      "metadata": {
        "colab": {
          "base_uri": "https://localhost:8080/",
          "height": 1000
        },
        "id": "ZsRxYFGf5SY2",
        "outputId": "da50992a-a90b-4e25-d51f-286180faf92a"
      },
      "execution_count": 10,
      "outputs": [
        {
          "output_type": "stream",
          "name": "stdout",
          "text": [
            "Epoch 1/4\n",
            "\u001b[1m30/30\u001b[0m \u001b[32m━━━━━━━━━━━━━━━━━━━━\u001b[0m\u001b[37m\u001b[0m \u001b[1m5s\u001b[0m 146ms/step - accuracy: 0.6912 - loss: 0.5756 - val_accuracy: 0.8743 - val_loss: 0.3353\n",
            "Epoch 2/4\n",
            "\u001b[1m30/30\u001b[0m \u001b[32m━━━━━━━━━━━━━━━━━━━━\u001b[0m\u001b[37m\u001b[0m \u001b[1m3s\u001b[0m 68ms/step - accuracy: 0.8760 - loss: 0.3153 - val_accuracy: 0.8858 - val_loss: 0.2867\n",
            "Epoch 3/4\n",
            "\u001b[1m30/30\u001b[0m \u001b[32m━━━━━━━━━━━━━━━━━━━━\u001b[0m\u001b[37m\u001b[0m \u001b[1m2s\u001b[0m 67ms/step - accuracy: 0.9208 - loss: 0.2163 - val_accuracy: 0.8753 - val_loss: 0.3090\n",
            "Epoch 4/4\n",
            "\u001b[1m30/30\u001b[0m \u001b[32m━━━━━━━━━━━━━━━━━━━━\u001b[0m\u001b[37m\u001b[0m \u001b[1m3s\u001b[0m 71ms/step - accuracy: 0.9312 - loss: 0.1820 - val_accuracy: 0.8863 - val_loss: 0.2801\n",
            "\u001b[1m782/782\u001b[0m \u001b[32m━━━━━━━━━━━━━━━━━━━━\u001b[0m\u001b[37m\u001b[0m \u001b[1m4s\u001b[0m 5ms/step - accuracy: 0.8782 - loss: 0.2958\n",
            "Test results: [0.2950899302959442, 0.8807600140571594]\n"
          ]
        },
        {
          "output_type": "display_data",
          "data": {
            "text/plain": [
              "<Figure size 640x480 with 1 Axes>"
            ],
            "image/png": "[encoded data removed]"
          },
          "metadata": {}
        },
        {
          "output_type": "display_data",
          "data": {
            "text/plain": [
              "<Figure size 640x480 with 1 Axes>"
            ],
            "image/png": "[encoded data removed]"
          },
          "metadata": {}
        }
      ]
    },
    {
      "cell_type": "code",
      "source": [
        "train_data, train_labels, test_data, test_labels = DataLoader.load_reuters()\n",
        "x_train = Preprocessor.vectorize_sequences(train_data)\n",
        "x_test = Preprocessor.vectorize_sequences(test_data)\n",
        "y_train = Preprocessor.to_one_hot(train_labels)\n",
        "y_test = Preprocessor.to_one_hot(test_labels)"
      ],
      "metadata": {
        "colab": {
          "base_uri": "https://localhost:8080/"
        },
        "id": "nq_PmVZs5Upu",
        "outputId": "1e1f2ee5-2315-4162-9932-a92ae9841115"
      },
      "execution_count": 11,
      "outputs": [
        {
          "output_type": "stream",
          "name": "stdout",
          "text": [
            "Downloading data from https://storage.googleapis.com/tensorflow/tf-keras-datasets/reuters.npz\n",
            "\u001b[1m2110848/2110848\u001b[0m \u001b[32m━━━━━━━━━━━━━━━━━━━━\u001b[0m\u001b[37m\u001b[0m \u001b[1m1s\u001b[0m 0us/step\n"
          ]
        }
      ]
    },
    {
      "cell_type": "code",
      "source": [
        "reuters_model = TextModel(output_dim=46, loss_function=\"categorical_crossentropy\").get_model()\n",
        "trainer = Trainer(reuters_model, x_train[1000:], y_train[1000:], x_train[:1000], y_train[:1000])\n",
        "history = trainer.train(epochs=9)\n",
        "Evaluator.evaluate(reuters_model, x_test, y_test)\n",
        "Plotter.plot_loss(history)\n",
        "Plotter.plot_accuracy(history)"
      ],
      "metadata": {
        "colab": {
          "base_uri": "https://localhost:8080/"
        },
        "id": "J9FGzj7m5Wrn",
        "outputId": "17677638-298c-4bf8-cf5b-044b28357d53"
      },
      "execution_count": 29,
      "outputs": [
        {
          "output_type": "stream",
          "name": "stdout",
          "text": [
            "Epoch 1/5\n",
            "\u001b[1m16/16\u001b[0m \u001b[32m━━━━━━━━━━━━━━━━━━━━\u001b[0m\u001b[37m\u001b[0m \u001b[1m2s\u001b[0m 4ms/step - accuracy: 0.0000e+00 - loss: 0.4221\n",
            "Epoch 2/5\n",
            "\u001b[1m16/16\u001b[0m \u001b[32m━━━━━━━━━━━━━━━━━━━━\u001b[0m\u001b[37m\u001b[0m \u001b[1m0s\u001b[0m 4ms/step - accuracy: 0.0015 - loss: 0.4141     \n",
            "Epoch 3/5\n",
            "\u001b[1m16/16\u001b[0m \u001b[32m━━━━━━━━━━━━━━━━━━━━\u001b[0m\u001b[37m\u001b[0m \u001b[1m0s\u001b[0m 4ms/step - accuracy: 0.0160 - loss: 0.4143 \n",
            "Epoch 4/5\n",
            "\u001b[1m16/16\u001b[0m \u001b[32m━━━━━━━━━━━━━━━━━━━━\u001b[0m\u001b[37m\u001b[0m \u001b[1m0s\u001b[0m 4ms/step - accuracy: 0.0436 - loss: 0.4059 \n",
            "Epoch 5/5\n",
            "\u001b[1m16/16\u001b[0m \u001b[32m━━━━━━━━━━━━━━━━━━━━\u001b[0m\u001b[37m\u001b[0m \u001b[1m0s\u001b[0m 4ms/step - accuracy: 0.0819 - loss: 0.4063 \n"
          ]
        },
        {
          "output_type": "execute_result",
          "data": {
            "text/plain": [
              "{'accuracy': [0.0,\n",
              "  0.005499999970197678,\n",
              "  0.023000000044703484,\n",
              "  0.05299999937415123,\n",
              "  0.09549999982118607],\n",
              " 'loss': [0.4100000262260437,\n",
              "  0.4100000560283661,\n",
              "  0.4100000262260437,\n",
              "  0.4100000262260437,\n",
              "  0.4099999964237213]}"
            ]
          },
          "metadata": {},
          "execution_count": 29
        }
      ]
    },
    {
      "cell_type": "code",
      "source": [
        "train_data, train_targets, test_data, test_targets = DataLoader.load_boston_housing()\n",
        "train_data, test_data = Preprocessor.normalize_data(train_data, test_data)"
      ],
      "metadata": {
        "colab": {
          "base_uri": "https://localhost:8080/"
        },
        "id": "qNIeVZor5Y_2",
        "outputId": "edf056de-9fb8-49de-fbd9-b866c6a65c67"
      },
      "execution_count": 30,
      "outputs": [
        {
          "output_type": "stream",
          "name": "stdout",
          "text": [
            "\u001b[1m16/16\u001b[0m \u001b[32m━━━━━━━━━━━━━━━━━━━━\u001b[0m\u001b[37m\u001b[0m \u001b[1m0s\u001b[0m 8ms/step\n",
            "[[0.1000107  0.09996241 0.10000938 0.0999283  0.10001905 0.10000356\n",
            "  0.10000276 0.09998804 0.10000961 0.10006621]\n",
            " [0.10003782 0.09996597 0.10001119 0.09988645 0.10002056 0.09999523\n",
            "  0.10001875 0.09997721 0.10000805 0.10007863]\n",
            " [0.09991915 0.09983701 0.09998801 0.09990538 0.10010196 0.10003131\n",
            "  0.10000634 0.09996994 0.1000315  0.10020938]\n",
            " [0.10004576 0.10001397 0.09998065 0.09997207 0.09997971 0.09999125\n",
            "  0.10003085 0.09999443 0.09998326 0.10000804]\n",
            " [0.10000481 0.09998628 0.10000978 0.09996288 0.10000216 0.10000296\n",
            "  0.09999863 0.09999463 0.10000475 0.10003313]\n",
            " [0.1000381  0.09997925 0.10001086 0.09990038 0.10001059 0.09999306\n",
            "  0.10002163 0.09997994 0.10000379 0.10006239]\n",
            " [0.09996268 0.09989918 0.10000227 0.09991836 0.10005994 0.10001741\n",
            "  0.10000227 0.09997996 0.10002375 0.10013416]\n",
            " [0.10006416 0.09995746 0.09992626 0.09993764 0.10002715 0.09998544\n",
            "  0.10006765 0.09998814 0.09997857 0.10006754]\n",
            " [0.10002873 0.09993526 0.10000929 0.09986947 0.10004001 0.10000098\n",
            "  0.10001426 0.09997535 0.10001478 0.10011188]\n",
            " [0.1000367  0.10000262 0.10001083 0.0999283  0.09999327 0.09999066\n",
            "  0.1000225  0.09998575 0.09999713 0.10003215]]\n"
          ]
        }
      ]
    }
  ],
  "metadata": {
    "colab": {
      "provenance": []
    },
    "kernelspec": {
      "display_name": "Python 3",
      "name": "python3"
    },
    "language_info": {
      "name": "python"
    }
  },
  "nbformat": 4,
  "nbformat_minor": 0
}