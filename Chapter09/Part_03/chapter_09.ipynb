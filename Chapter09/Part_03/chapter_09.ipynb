{
  "cells": [
    {
      "cell_type": "markdown",
      "metadata": {
        "id": "QmRAEtvJ_6OT"
      },
      "source": [
        "# **Deep Learning With Python  -  CHAPTER 9**"
      ]
    },
    {
      "cell_type": "markdown",
      "metadata": {
        "id": "8HE2uMKK_7Qp"
      },
      "source": [
        "- This code provides a **modular and structured** approach to analyzing and visualizing **CNN feature maps and decision-making processes** using **TensorFlow/Keras**.\n",
        "\n",
        "- The `ModelLoader` class loads pre-trained models like **Xception** or custom-trained models, while the `ImageProcessor` handles image loading and preprocessing. The `FeatureVisualizer` extracts and visualizes **activation maps** from convolutional layers.\n",
        "\n",
        "- The `FilterPatternGenerator` generates **synthetic filter patterns** to understand feature extraction. The `GradCAM` class implements **Grad-CAM**, a technique for visualizing which parts of an image influence the model’s predictions.\n",
        "\n",
        "- This modular design ensures **scalability, interpretability, and ease of experimentation**, making it ideal for deep learning model analysis and visualization."
      ]
    },
    {
      "cell_type": "code",
      "execution_count": 67,
      "metadata": {
        "id": "oqNg9frRCBgk"
      },
      "outputs": [],
      "source": [
        "import os\n",
        "import numpy as np\n",
        "import tensorflow as tf\n",
        "import matplotlib.cm as cm\n",
        "from tensorflow import keras\n",
        "import matplotlib.pyplot as plt\n",
        "from tensorflow.keras import layers"
      ]
    },
    {
      "cell_type": "code",
      "execution_count": 68,
      "metadata": {
        "id": "7HHCQEtlu8Pg"
      },
      "outputs": [],
      "source": [
        "class ModelLoader:\n",
        "    @staticmethod\n",
        "    def load_model_from_file(model_path):\n",
        "        model = keras.models.load_model(model_path)\n",
        "        model.summary()\n",
        "        return model\n",
        "\n",
        "    @staticmethod\n",
        "    def load_pretrained_xception():\n",
        "        return keras.applications.xception.Xception(weights=\"imagenet\", include_top=True)\n",
        "\n",
        "    @staticmethod\n",
        "    def load_xception_feature_extractor(layer_name):\n",
        "        model = keras.applications.xception.Xception(weights=\"imagenet\", include_top=False)\n",
        "        return keras.Model(inputs=model.input, outputs=model.get_layer(name=layer_name).output)"
      ]
    },
    {
      "cell_type": "code",
      "execution_count": 69,
      "metadata": {
        "id": "lx1G3oUPCicE"
      },
      "outputs": [],
      "source": [
        "class ImageProcessor:\n",
        "    @staticmethod\n",
        "    def load_and_preprocess_image(img_url, target_size):\n",
        "        img_path = keras.utils.get_file(fname=img_url.split(\"/\")[-1], origin=img_url)\n",
        "        img = keras.utils.load_img(img_path, target_size=target_size)\n",
        "        array = keras.utils.img_to_array(img)\n",
        "        array = np.expand_dims(array, axis=0)\n",
        "        return array\n",
        "\n",
        "    @staticmethod\n",
        "    def preprocess_for_xception(img_array):\n",
        "        return keras.applications.xception.preprocess_input(img_array)\n",
        "\n",
        "    @staticmethod\n",
        "    def display_image(img_array):\n",
        "        plt.axis(\"off\")\n",
        "        plt.imshow(img_array[0].astype(\"uint8\"))\n",
        "        plt.show()"
      ]
    },
    {
      "cell_type": "code",
      "source": [
        "class FeatureVisualizer:\n",
        "    def __init__(self, model):\n",
        "        self.model = model\n",
        "\n",
        "    def get_activation_model(self):\n",
        "        layer_outputs = []\n",
        "        layer_names = []\n",
        "        for layer in self.model.layers:\n",
        "            if isinstance(layer, (layers.Conv2D, layers.MaxPooling2D)):\n",
        "                layer_outputs.append(layer.output)\n",
        "                layer_names.append(layer.name)\n",
        "        return keras.Model(inputs=self.model.input, outputs=layer_outputs), layer_names\n",
        "\n",
        "    def display_layer_activations(self, activations, layer_names, images_per_row=16):\n",
        "        for layer_name, layer_activation in zip(layer_names, activations):\n",
        "            n_features = layer_activation.shape[-1]\n",
        "            size = layer_activation.shape[1]\n",
        "            n_cols = n_features // images_per_row\n",
        "            display_grid = np.zeros(((size + 1) * n_cols - 1,\n",
        "                                     images_per_row * (size + 1) - 1))\n",
        "\n",
        "            for col in range(n_cols):\n",
        "                for row in range(images_per_row):\n",
        "                    channel_index = col * images_per_row + row\n",
        "                    if channel_index < n_features:\n",
        "                        channel_image = layer_activation[0, :, :, channel_index].copy()\n",
        "                        if channel_image.sum() != 0:\n",
        "                            channel_image -= channel_image.mean()\n",
        "                            channel_image /= channel_image.std()\n",
        "                            channel_image *= 64\n",
        "                            channel_image += 128\n",
        "                        channel_image = np.clip(channel_image, 0, 255).astype(\"uint8\")\n",
        "                        display_grid[\n",
        "                            col * (size + 1): (col + 1) * size + col,\n",
        "                            row * (size + 1): (row + 1) * size + row] = channel_image\n",
        "\n",
        "            scale = 1. / size\n",
        "            plt.figure(figsize=(scale * display_grid.shape[1], scale * display_grid.shape[0]))\n",
        "            plt.title(layer_name)\n",
        "            plt.grid(False)\n",
        "            plt.axis(\"off\")\n",
        "            plt.imshow(display_grid, aspect=\"auto\", cmap=\"viridis\")\n",
        "            plt.show()"
      ],
      "metadata": {
        "id": "AMIFlb8B5DTO"
      },
      "execution_count": 70,
      "outputs": []
    },
    {
      "cell_type": "code",
      "source": [
        "class FilterPatternGenerator:\n",
        "    def __init__(self, feature_extractor):\n",
        "        self.feature_extractor = feature_extractor\n",
        "\n",
        "    @staticmethod\n",
        "    def compute_loss(image, filter_index, feature_extractor):\n",
        "        activation = feature_extractor(image)\n",
        "        filter_activation = activation[:, 2:-2, 2:-2, filter_index]\n",
        "        return tf.reduce_mean(filter_activation)\n",
        "\n",
        "    @tf.function\n",
        "    def gradient_ascent_step(self, image, filter_index, learning_rate):\n",
        "        with tf.GradientTape() as tape:\n",
        "            tape.watch(image)\n",
        "            loss = self.compute_loss(image, filter_index, self.feature_extractor)\n",
        "        grads = tape.gradient(loss, image)\n",
        "        grads = tf.math.l2_normalize(grads)\n",
        "        image += learning_rate * grads\n",
        "        return image\n",
        "\n",
        "    def generate_filter_pattern(self, filter_index, img_size=(200, 200), iterations=30, learning_rate=10.):\n",
        "        image = tf.random.uniform(minval=0.4, maxval=0.6, shape=(1, *img_size, 3))\n",
        "        for _ in range(iterations):\n",
        "            image = self.gradient_ascent_step(image, filter_index, learning_rate)\n",
        "        return image[0].numpy()\n",
        "\n",
        "    @staticmethod\n",
        "    def deprocess_image(image):\n",
        "        image -= image.mean()\n",
        "        image /= image.std()\n",
        "        image *= 64\n",
        "        image += 128\n",
        "        return np.clip(image, 0, 255).astype(\"uint8\")"
      ],
      "metadata": {
        "id": "zI1CcA9A5Fxm"
      },
      "execution_count": 71,
      "outputs": []
    },
    {
      "cell_type": "code",
      "source": [
        "class GradCAM:\n",
        "    def __init__(self, model, last_conv_layer_name, classifier_layer_names):\n",
        "        self.model = model\n",
        "        self.last_conv_layer_model = keras.Model(inputs=model.inputs, outputs=model.get_layer(last_conv_layer_name).output)\n",
        "        classifier_input = keras.Input(shape=self.last_conv_layer_model.output.shape[1:])\n",
        "        x = classifier_input\n",
        "        for layer_name in classifier_layer_names:\n",
        "            x = model.get_layer(layer_name)(x)\n",
        "        self.classifier_model = keras.Model(classifier_input, x)\n",
        "\n",
        "    def compute_heatmap(self, img_array):\n",
        "        with tf.GradientTape() as tape:\n",
        "            last_conv_layer_output = self.last_conv_layer_model(img_array)\n",
        "            tape.watch(last_conv_layer_output)\n",
        "            preds = self.classifier_model(last_conv_layer_output)\n",
        "            top_pred_index = tf.argmax(preds[0])\n",
        "            top_class_channel = preds[:, top_pred_index]\n",
        "\n",
        "        grads = tape.gradient(top_class_channel, last_conv_layer_output)\n",
        "        pooled_grads = tf.reduce_mean(grads, axis=(0, 1, 2)).numpy()\n",
        "        last_conv_layer_output = last_conv_layer_output.numpy()[0]\n",
        "\n",
        "        for i in range(pooled_grads.shape[-1]):\n",
        "            last_conv_layer_output[:, :, i] *= pooled_grads[i]\n",
        "\n",
        "        heatmap = np.mean(last_conv_layer_output, axis=-1)\n",
        "        heatmap = np.maximum(heatmap, 0)\n",
        "        heatmap /= np.max(heatmap)\n",
        "        return heatmap\n",
        "\n",
        "    @staticmethod\n",
        "    def apply_heatmap(img_path, heatmap, alpha=0.4):\n",
        "        img = keras.utils.load_img(img_path)\n",
        "        img = keras.utils.img_to_array(img)\n",
        "        heatmap = np.uint8(255 * heatmap)\n",
        "\n",
        "        jet = cm.get_cmap(\"jet\")\n",
        "        jet_colors = jet(np.arange(256))[:, :3]\n",
        "        jet_heatmap = jet_colors[heatmap]\n",
        "\n",
        "        jet_heatmap = keras.utils.array_to_img(jet_heatmap)\n",
        "        jet_heatmap = jet_heatmap.resize((img.shape[1], img.shape[0]))\n",
        "        jet_heatmap = keras.utils.img_to_array(jet_heatmap)\n",
        "\n",
        "        superimposed_img = jet_heatmap * alpha + img\n",
        "        superimposed_img = keras.utils.array_to_img(superimposed_img)\n",
        "        return superimposed_img"
      ],
      "metadata": {
        "id": "FjL17ZVC5Iw-"
      },
      "execution_count": 72,
      "outputs": []
    },
    {
      "cell_type": "code",
      "source": [
        "model = ModelLoader.load_pretrained_xception()\n",
        "\n",
        "img_array = ImageProcessor.load_and_preprocess_image(\"https://img-datasets.s3.amazonaws.com/elephant.jpg\", target_size=(299, 299))\n",
        "\n",
        "\n",
        "grad_cam = GradCAM(model, \"block14_sepconv2_act\", [\"avg_pool\", \"predictions\"])\n",
        "heatmap = grad_cam.compute_heatmap(img_array)"
      ],
      "metadata": {
        "id": "XSAgrObR5KwV",
        "colab": {
          "base_uri": "https://localhost:8080/"
        },
        "outputId": "11ae90a2-f731-4e68-b255-fa7bfcfa9e0c"
      },
      "execution_count": 74,
      "outputs": [
        {
          "output_type": "stream",
          "name": "stderr",
          "text": [
            "/usr/local/lib/python3.11/dist-packages/keras/src/models/functional.py:237: UserWarning: The structure of `inputs` doesn't match the expected structure.\n",
            "Expected: ['keras_tensor_267']\n",
            "Received: inputs=Tensor(shape=(1, 299, 299, 3))\n",
            "  warnings.warn(msg)\n"
          ]
        }
      ]
    }
  ],
  "metadata": {
    "colab": {
      "provenance": []
    },
    "kernelspec": {
      "display_name": "Python 3",
      "name": "python3"
    },
    "language_info": {
      "name": "python"
    }
  },
  "nbformat": 4,
  "nbformat_minor": 0
}